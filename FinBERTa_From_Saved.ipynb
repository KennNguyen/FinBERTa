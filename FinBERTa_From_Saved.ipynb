{
 "cells": [
  {
   "cell_type": "code",
   "execution_count": 1,
   "id": "7101e781-62fa-47bb-9555-1bf0fab4cbc4",
   "metadata": {},
   "outputs": [],
   "source": [
    "from datasets import load_dataset\n",
    "import evaluate\n",
    "import numpy\n",
    "import torch\n",
    "from torch.utils.data import DataLoader, Dataset\n",
    "from transformers import DataCollatorWithPadding, EarlyStoppingCallback, RobertaForSequenceClassification, RobertaTokenizer, TrainingArguments, Trainer"
   ]
  },
  {
   "cell_type": "code",
   "execution_count": 2,
   "id": "048a8d58-663e-4789-a705-15763fc3a9af",
   "metadata": {},
   "outputs": [
    {
     "name": "stdout",
     "output_type": "stream",
     "text": [
      "CUDA is available. Using CUDA.\n"
     ]
    }
   ],
   "source": [
    "def CUDA_CPU():\n",
    "    if torch.cuda.is_available():\n",
    "        print(\"CUDA is available. Using CUDA.\")\n",
    "        return 'cuda'\n",
    "    else:\n",
    "        print(\"CUDA isn't available. Using CPU.\")\n",
    "        return 'cpu'\n",
    "\n",
    "device = CUDA_CPU()\n",
    "\n",
    "class DatasetAttr(Dataset):\n",
    "    def __init__(self, dataset, tokenizer):\n",
    "        self.dataset = dataset\n",
    "        self.tokenizer = tokenizer\n",
    "\n",
    "    def __len__(self):\n",
    "        return len(self.dataset)\n",
    "\n",
    "    def __getitem__(self, idx):\n",
    "        item = self.dataset[idx]\n",
    "        tokenized_input = self.tokenizer(item['Sentence'], padding = \"max_length\", truncation = True, max_length = 512)\n",
    "        return {**tokenized_input, \"labels\": item['Sentiment']}\n",
    "\n",
    "def compute_metrics(eval_pred):\n",
    "    logits, labels = eval_pred\n",
    "    predictions = torch.argmax(torch.tensor(logits), dim = 1).numpy()\n",
    "\n",
    "    accuracy = evaluate.load(\"accuracy\")\n",
    "    f1 = evaluate.load(\"f1\")\n",
    "    precision = evaluate.load(\"precision\")\n",
    "    recall = evaluate.load(\"recall\")\n",
    "\n",
    "    results = {\n",
    "        \"accuracy\": accuracy.compute(predictions = predictions, references = labels)[\"accuracy\"],\n",
    "        \"f1\": f1.compute(predictions = predictions, references = labels, average = \"macro\")[\"f1\"],\n",
    "        \"precision\": precision.compute(predictions = predictions, references = labels, average = \"macro\", zero_division = 0)[\"precision\"],\n",
    "        \"recall\": recall.compute(predictions = predictions, references = labels, average = \"macro\", zero_division = 0)[\"recall\"],\n",
    "    }\n",
    "\n",
    "    return results"
   ]
  },
  {
   "cell_type": "code",
   "execution_count": 3,
   "id": "eb32711a-d825-4b87-a113-0419ddaf232b",
   "metadata": {},
   "outputs": [
    {
     "data": {
      "text/html": [
       "\n",
       "    <div>\n",
       "      \n",
       "      <progress value='220' max='220' style='width:300px; height:20px; vertical-align: middle;'></progress>\n",
       "      [220/220 00:18]\n",
       "    </div>\n",
       "    "
      ],
      "text/plain": [
       "<IPython.core.display.HTML object>"
      ]
     },
     "metadata": {},
     "output_type": "display_data"
    },
    {
     "name": "stdout",
     "output_type": "stream",
     "text": [
      "Model Evaluation Results on Test Dataset: {'eval_loss': 0.7672545909881592, 'eval_accuracy': 0.7992013690815745, 'eval_f1': 0.7304783886158228, 'eval_precision': 0.7337616233010286, 'eval_recall': 0.7277234995361731, 'eval_runtime': 24.3177, 'eval_samples_per_second': 72.088, 'eval_steps_per_second': 9.047}\n"
     ]
    }
   ],
   "source": [
    "# Load the tokenizer and the saved model\n",
    "tokenizer = RobertaTokenizer.from_pretrained('roberta-base')\n",
    "model = RobertaForSequenceClassification.from_pretrained(\"./saved_model\").to(device)\n",
    "\n",
    "# Load and prepare your test dataset\n",
    "dataset = load_dataset('---dataset---')\n",
    "train_validtest = dataset['train'].train_test_split(test_size = 0.4)\n",
    "valid_test = train_validtest['train'].train_test_split(test_size = 0.5)\n",
    "train_set, valid_set, test_set = train_validtest['train'], valid_test['train'], valid_test['test']\n",
    "\n",
    "test_dataset = DatasetAttr(test_set, tokenizer)\n",
    "\n",
    "# Setup Training Arguments for Evaluation\n",
    "training_args = TrainingArguments(\n",
    "    output_dir = \"./results\",\n",
    "    per_device_eval_batch_size = 8,\n",
    ")\n",
    "\n",
    "# Initialize the Trainer for evaluation\n",
    "trainer = Trainer(\n",
    "    model = model,\n",
    "    args = training_args,\n",
    "    compute_metrics = compute_metrics,\n",
    ")\n",
    "\n",
    "# Evaluate the model on the test dataset\n",
    "test_results = trainer.evaluate(test_dataset)\n",
    "print(f\"Model Evaluation Results on Test Dataset: {test_results}\")"
   ]
  }
 ],
 "metadata": {
  "kernelspec": {
   "display_name": "Python 3 (ipykernel)",
   "language": "python",
   "name": "python3"
  },
  "language_info": {
   "codemirror_mode": {
    "name": "ipython",
    "version": 3
   },
   "file_extension": ".py",
   "mimetype": "text/x-python",
   "name": "python",
   "nbconvert_exporter": "python",
   "pygments_lexer": "ipython3",
   "version": "3.12.2"
  }
 },
 "nbformat": 4,
 "nbformat_minor": 5
}
